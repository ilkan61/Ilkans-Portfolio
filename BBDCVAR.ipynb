{
 "cells": [
  {
   "cell_type": "code",
   "execution_count": 1,
   "metadata": {
    "collapsed": true,
    "pycharm": {
     "name": "#%%\n"
    }
   },
   "outputs": [
    {
     "name": "stdout",
     "output_type": "stream",
     "text": [
      "\n",
      "MEANS:\n",
      "\n",
      "FORECAST:  [ 3.28614798 10.05105462 32.11288218  0.87313819 14.96627632]\n",
      "    REAL:  [ 3.67538293 10.4809628  32.21740044  0.55346827  9.53884026]\n",
      "\n",
      "DIFF in %: [111.84471774 104.27724444 100.32547143  63.38839309  63.73556159]   ---- > 100 ist Gut\n",
      "\n",
      "VARIANCES:\n",
      "\n",
      "FORECAST:  [ 0.83844664 23.03221273  0.14751287  0.40841221 55.19942209]\n",
      "REAL:      [ 3.25649466 24.84346691  1.11161782  0.51352747 76.51075248]\n",
      "\n",
      "DIFF in %: [388.39617453 107.86400421 753.57345955 125.73754159 138.60788679]   ---- > 100 ist Gut\n"
     ]
    }
   ],
   "source": [
    "## Imports\n",
    "\n",
    "import pandas as pd\n",
    "import numpy as np\n",
    "import matplotlib.pyplot as plt\n",
    "import seaborn as sns\n",
    "from datetime import datetime\n",
    "from statsmodels.tsa.api import VAR\n",
    "import math\n",
    "\n",
    "## Data prep\n",
    "\n",
    "df_input = pd.read_csv(\"df_cleaned_both_directions_interpolated.csv\")      # CSV INPUT\n",
    "\n",
    "df_input[\"Datum\"] = pd.to_datetime(df_input[\"Datum\"], dayfirst=True)\n",
    "\n",
    "df_input = df_input.set_index(\"Datum\")\n",
    "\n",
    "## Train/Test split\n",
    "\n",
    "df_train = df_input[ :\"12.31.2003\"]     # TRAIN DATEN BIS \" \"\n",
    "#df_test = df_input[\"01.01.2003\":]       # TEST DATEN VON \" \"\n",
    "\n",
    "## VAR fit\n",
    "\n",
    "model = VAR(df_train, freq=\"D\")\n",
    "results = model.fit(351)        # MODEL FIT (LAG)\n",
    "lag = results.k_ar\n",
    "\n",
    "## VAR forecast\n",
    "\n",
    "forecast = results.forecast(df_train.values[-lag:], steps=365)        # 365 STEPS FORECAST\n",
    "\n",
    "## RMSE/MEANS/VARIANCE\n",
    "\n",
    "from sklearn.metrics import mean_squared_error\n",
    "#RMSE = mean_squared_error(df_test[0:365], forecast, squared=False)\n",
    "forecast_to_array = np.array(forecast)\n",
    "\n",
    "#print(\"RMSE:      [\",RMSE,\"]\")\n",
    "print()\n",
    "print(\"MEANS:\")\n",
    "print()\n",
    "print(\"FORECAST: \",results.mean())\n",
    "print(\"    REAL:  [ 3.67538293 10.4809628  32.21740044  0.55346827  9.53884026]\")\n",
    "print()\n",
    "forecast_means_real = [3.67538293,10.4809628,32.21740044,0.55346827,9.53884026]\n",
    "diff_means = forecast_means_real / results.mean() * 100\n",
    "print(\"DIFF in %:\",diff_means,\"  ---- > 100 ist Gut\")\n",
    "print()\n",
    "print(\"VARIANCES:\")\n",
    "print()\n",
    "print(\"FORECAST: \",np.var(forecast_to_array, axis=0))\n",
    "print(\"REAL:      [ 3.25649466 24.84346691  1.11161782  0.51352747 76.51075248]\")\n",
    "forecast_variance_pred = np.var(forecast_to_array, axis=0)\n",
    "forecast_variance_real = [3.25649466,24.84346691,1.11161782,0.51352747,76.51075248]\n",
    "diff_var = forecast_variance_real / forecast_variance_pred * 100\n",
    "print()\n",
    "print(\"DIFF in %:\",diff_var,\"  ---- > 100 ist Gut\")"
   ]
  },
  {
   "cell_type": "code",
   "execution_count": 2,
   "outputs": [
    {
     "data": {
      "text/plain": "               SECCI  Temperatur  Salinität       NO2       NO3\nDatum                                                          \n2004-01-01  1.500660    6.599678  31.729014  2.247186  3.813369\n2004-01-02  1.617067    6.553455  31.864348  2.254631  4.762481\n2004-01-03  1.668531    6.272136  31.894738  2.246730  6.381333\n2004-01-04  1.856478    6.178077  31.938837  2.266910  6.786064\n2004-01-05  1.643060    6.088521  32.111425  2.235132  5.912918\n...              ...         ...        ...       ...       ...\n2004-12-26  2.728168    6.651142  32.897712  1.528903  7.254005\n2004-12-27  2.789803    6.601969  32.824257  1.553184  7.488319\n2004-12-28  2.765123    6.612436  32.826551  1.561029  7.502972\n2004-12-29  2.624775    6.493439  32.829373  1.559123  8.099481\n2004-12-30  2.642079    6.405611  32.866496  1.563589  8.050407\n\n[365 rows x 5 columns]",
      "text/html": "<div>\n<style scoped>\n    .dataframe tbody tr th:only-of-type {\n        vertical-align: middle;\n    }\n\n    .dataframe tbody tr th {\n        vertical-align: top;\n    }\n\n    .dataframe thead th {\n        text-align: right;\n    }\n</style>\n<table border=\"1\" class=\"dataframe\">\n  <thead>\n    <tr style=\"text-align: right;\">\n      <th></th>\n      <th>SECCI</th>\n      <th>Temperatur</th>\n      <th>Salinität</th>\n      <th>NO2</th>\n      <th>NO3</th>\n    </tr>\n    <tr>\n      <th>Datum</th>\n      <th></th>\n      <th></th>\n      <th></th>\n      <th></th>\n      <th></th>\n    </tr>\n  </thead>\n  <tbody>\n    <tr>\n      <th>2004-01-01</th>\n      <td>1.500660</td>\n      <td>6.599678</td>\n      <td>31.729014</td>\n      <td>2.247186</td>\n      <td>3.813369</td>\n    </tr>\n    <tr>\n      <th>2004-01-02</th>\n      <td>1.617067</td>\n      <td>6.553455</td>\n      <td>31.864348</td>\n      <td>2.254631</td>\n      <td>4.762481</td>\n    </tr>\n    <tr>\n      <th>2004-01-03</th>\n      <td>1.668531</td>\n      <td>6.272136</td>\n      <td>31.894738</td>\n      <td>2.246730</td>\n      <td>6.381333</td>\n    </tr>\n    <tr>\n      <th>2004-01-04</th>\n      <td>1.856478</td>\n      <td>6.178077</td>\n      <td>31.938837</td>\n      <td>2.266910</td>\n      <td>6.786064</td>\n    </tr>\n    <tr>\n      <th>2004-01-05</th>\n      <td>1.643060</td>\n      <td>6.088521</td>\n      <td>32.111425</td>\n      <td>2.235132</td>\n      <td>5.912918</td>\n    </tr>\n    <tr>\n      <th>...</th>\n      <td>...</td>\n      <td>...</td>\n      <td>...</td>\n      <td>...</td>\n      <td>...</td>\n    </tr>\n    <tr>\n      <th>2004-12-26</th>\n      <td>2.728168</td>\n      <td>6.651142</td>\n      <td>32.897712</td>\n      <td>1.528903</td>\n      <td>7.254005</td>\n    </tr>\n    <tr>\n      <th>2004-12-27</th>\n      <td>2.789803</td>\n      <td>6.601969</td>\n      <td>32.824257</td>\n      <td>1.553184</td>\n      <td>7.488319</td>\n    </tr>\n    <tr>\n      <th>2004-12-28</th>\n      <td>2.765123</td>\n      <td>6.612436</td>\n      <td>32.826551</td>\n      <td>1.561029</td>\n      <td>7.502972</td>\n    </tr>\n    <tr>\n      <th>2004-12-29</th>\n      <td>2.624775</td>\n      <td>6.493439</td>\n      <td>32.829373</td>\n      <td>1.559123</td>\n      <td>8.099481</td>\n    </tr>\n    <tr>\n      <th>2004-12-30</th>\n      <td>2.642079</td>\n      <td>6.405611</td>\n      <td>32.866496</td>\n      <td>1.563589</td>\n      <td>8.050407</td>\n    </tr>\n  </tbody>\n</table>\n<p>365 rows × 5 columns</p>\n</div>"
     },
     "execution_count": 2,
     "metadata": {},
     "output_type": "execute_result"
    }
   ],
   "source": [
    "df_result = pd.DataFrame(forecast_to_array)\n",
    "df_result = df_result.rename(columns={df_result.columns[0]: 'SECCI'})\n",
    "df_result = df_result.rename(columns={df_result.columns[1]: 'Temperatur'})\n",
    "df_result = df_result.rename(columns={df_result.columns[2]: 'Salinität'})\n",
    "df_result = df_result.rename(columns={df_result.columns[3]: 'NO2'})\n",
    "df_result = df_result.rename(columns={df_result.columns[4]: 'NO3'})\n",
    "\n",
    "df_result[\"Datum\"] = pd.date_range(start='01.01.2004', periods=len(df_result), freq='D')\n",
    "df_result[\"Datum\"] = pd.to_datetime(df_result[\"Datum\"], dayfirst=True)\n",
    "df_result = df_result.set_index(\"Datum\")\n",
    "df_result"
   ],
   "metadata": {
    "collapsed": false,
    "pycharm": {
     "name": "#%%\n"
    }
   }
  },
  {
   "cell_type": "code",
   "execution_count": 8,
   "outputs": [
    {
     "data": {
      "text/plain": "<AxesSubplot:xlabel='Datum'>"
     },
     "execution_count": 8,
     "metadata": {},
     "output_type": "execute_result"
    },
    {
     "data": {
      "text/plain": "<Figure size 640x480 with 1 Axes>",
      "image/png": "[encoded data removed]"
     },
     "metadata": {},
     "output_type": "display_data"
    }
   ],
   "source": [
    "#df_concat = df_train.append(df_result)\n",
    "#df_concat.plot()\n",
    "df_result.plot()"
   ],
   "metadata": {
    "collapsed": false,
    "pycharm": {
     "name": "#%%\n"
    }
   }
  },
  {
   "cell_type": "code",
   "execution_count": 4,
   "outputs": [
    {
     "ename": "NameError",
     "evalue": "name 'df_test' is not defined",
     "output_type": "error",
     "traceback": [
      "\u001B[0;31m---------------------------------------------------------------------------\u001B[0m",
      "\u001B[0;31mNameError\u001B[0m                                 Traceback (most recent call last)",
      "\u001B[0;32m/var/folders/gp/8l9268717m5fnd6hgnjf7x_m0000gn/T/ipykernel_48785/1595533385.py\u001B[0m in \u001B[0;36m<module>\u001B[0;34m\u001B[0m\n\u001B[0;32m----> 1\u001B[0;31m \u001B[0mdf_test_2003\u001B[0m \u001B[0;34m=\u001B[0m \u001B[0mdf_test\u001B[0m\u001B[0;34m[\u001B[0m\u001B[0;36m0\u001B[0m\u001B[0;34m:\u001B[0m\u001B[0;36m365\u001B[0m\u001B[0;34m]\u001B[0m\u001B[0;34m\u001B[0m\u001B[0;34m\u001B[0m\u001B[0m\n\u001B[0m\u001B[1;32m      2\u001B[0m \u001B[0;34m\u001B[0m\u001B[0m\n\u001B[1;32m      3\u001B[0m \u001B[0max\u001B[0m \u001B[0;34m=\u001B[0m \u001B[0mdf_result\u001B[0m\u001B[0;34m.\u001B[0m\u001B[0mplot\u001B[0m\u001B[0;34m(\u001B[0m\u001B[0;34m)\u001B[0m\u001B[0;34m\u001B[0m\u001B[0;34m\u001B[0m\u001B[0m\n\u001B[1;32m      4\u001B[0m \u001B[0mdf_test_2003\u001B[0m\u001B[0;34m.\u001B[0m\u001B[0mplot\u001B[0m\u001B[0;34m(\u001B[0m\u001B[0max\u001B[0m\u001B[0;34m=\u001B[0m\u001B[0max\u001B[0m\u001B[0;34m)\u001B[0m\u001B[0;34m\u001B[0m\u001B[0;34m\u001B[0m\u001B[0m\n\u001B[1;32m      5\u001B[0m \u001B[0;34m\u001B[0m\u001B[0m\n",
      "\u001B[0;31mNameError\u001B[0m: name 'df_test' is not defined"
     ]
    }
   ],
   "source": [
    "df_test_2003 = df_test[0:365]\n",
    "\n",
    "ax = df_result.plot()\n",
    "df_test_2003.plot(ax=ax)\n",
    "\n",
    "plt.show()"
   ],
   "metadata": {
    "collapsed": false,
    "pycharm": {
     "name": "#%%\n"
    }
   }
  },
  {
   "cell_type": "code",
   "execution_count": null,
   "outputs": [],
   "source": [
    "fig, ax = plt.subplots()\n",
    "\n",
    "# plot the dataframes on the same axis\n",
    "\n",
    "# plot the dataframes on the same axis\n",
    "ax.plot(df_result.index, df_result['SECCI'], label='PRED')\n",
    "ax.plot(df_test_2003.index, df_test_2003['SECCI'], label='REAL')\n",
    "\n",
    "# set axis labels and legend\n",
    "ax.set_xlabel('Datum')\n",
    "ax.set_ylabel('SECCI')\n",
    "ax.legend()\n",
    "\n",
    "fig, ax = plt.subplots()\n",
    "# plot the dataframes on the same axis\n",
    "ax.plot(df_result.index, df_result['Temperatur'], label='PRED')\n",
    "ax.plot(df_test_2003.index, df_test_2003['Temperatur'], label='REAL')\n",
    "\n",
    "# set axis labels and legend\n",
    "ax.set_xlabel('Datum')\n",
    "ax.set_ylabel('Temperatur')\n",
    "ax.legend()\n",
    "\n",
    "fig, ax = plt.subplots()\n",
    "\n",
    "# plot the dataframes on the same axis\n",
    "\n",
    "# plot the dataframes on the same axis\n",
    "ax.plot(df_result.index, df_result['Salinität'], label='PRED')\n",
    "ax.plot(df_test_2003.index, df_test_2003['Salinität'], label='REAL')\n",
    "\n",
    "# set axis labels and legend\n",
    "ax.set_xlabel('Datum')\n",
    "ax.set_ylabel('Salinität')\n",
    "ax.legend()\n",
    "\n",
    "fig, ax = plt.subplots()\n",
    "# plot the dataframes on the same axis\n",
    "ax.plot(df_result.index, df_result['NO2'], label='PRED')\n",
    "ax.plot(df_test_2003.index, df_test_2003['NO2'], label='REAL')\n",
    "\n",
    "# set axis labels and legend\n",
    "ax.set_xlabel('Datum')\n",
    "ax.set_ylabel('NO2')\n",
    "ax.legend()\n",
    "\n",
    "fig, ax = plt.subplots()\n",
    "# plot the dataframes on the same axis\n",
    "ax.plot(df_result.index, df_result['NO3'], label='PRED')\n",
    "ax.plot(df_test_2003.index, df_test_2003['NO3'], label='REAL')\n",
    "\n",
    "# set axis labels and legend\n",
    "ax.set_xlabel('Datum')\n",
    "ax.set_ylabel('NO3')\n",
    "ax.legend()\n",
    "# show the plot\n",
    "#plt.show()"
   ],
   "metadata": {
    "collapsed": false,
    "pycharm": {
     "name": "#%%\n"
    }
   }
  },
  {
   "cell_type": "code",
   "execution_count": 3,
   "outputs": [
    {
     "data": {
      "text/plain": "           Uhrzeit  SECCI Temperatur  Salinität     NO2     NO3     NOx\nDatum                                                                  \nNaT            NaN  Meter         °C        NaN  µmol/l  µmol/l  µmol/l\n2004-01-02    7:34    NaN        NaN        NaN     NaN     NaN     NaN\n2004-01-05   14:10    NaN        NaN        NaN     NaN     NaN     NaN\n2004-01-06    9:05    NaN        NaN        NaN     NaN     NaN     NaN\n2004-01-07    8:30    NaN        NaN        NaN     NaN     NaN     NaN\n...            ...    ...        ...        ...     ...     ...     ...\n2013-12-18    7:52    NaN        NaN        NaN     NaN     NaN     NaN\n2013-12-19    9:09    NaN        NaN        NaN     NaN     NaN     NaN\n2013-12-20    8:00    NaN        NaN        NaN     NaN     NaN     NaN\n2013-12-23    8:10    NaN        NaN        NaN     NaN     NaN     NaN\n2013-12-30    8:40    NaN        NaN        NaN     NaN     NaN     NaN\n\n[915 rows x 7 columns]",
      "text/html": "<div>\n<style scoped>\n    .dataframe tbody tr th:only-of-type {\n        vertical-align: middle;\n    }\n\n    .dataframe tbody tr th {\n        vertical-align: top;\n    }\n\n    .dataframe thead th {\n        text-align: right;\n    }\n</style>\n<table border=\"1\" class=\"dataframe\">\n  <thead>\n    <tr style=\"text-align: right;\">\n      <th></th>\n      <th>Uhrzeit</th>\n      <th>SECCI</th>\n      <th>Temperatur</th>\n      <th>Salinität</th>\n      <th>NO2</th>\n      <th>NO3</th>\n      <th>NOx</th>\n    </tr>\n    <tr>\n      <th>Datum</th>\n      <th></th>\n      <th></th>\n      <th></th>\n      <th></th>\n      <th></th>\n      <th></th>\n      <th></th>\n    </tr>\n  </thead>\n  <tbody>\n    <tr>\n      <th>NaT</th>\n      <td>NaN</td>\n      <td>Meter</td>\n      <td>°C</td>\n      <td>NaN</td>\n      <td>µmol/l</td>\n      <td>µmol/l</td>\n      <td>µmol/l</td>\n    </tr>\n    <tr>\n      <th>2004-01-02</th>\n      <td>7:34</td>\n      <td>NaN</td>\n      <td>NaN</td>\n      <td>NaN</td>\n      <td>NaN</td>\n      <td>NaN</td>\n      <td>NaN</td>\n    </tr>\n    <tr>\n      <th>2004-01-05</th>\n      <td>14:10</td>\n      <td>NaN</td>\n      <td>NaN</td>\n      <td>NaN</td>\n      <td>NaN</td>\n      <td>NaN</td>\n      <td>NaN</td>\n    </tr>\n    <tr>\n      <th>2004-01-06</th>\n      <td>9:05</td>\n      <td>NaN</td>\n      <td>NaN</td>\n      <td>NaN</td>\n      <td>NaN</td>\n      <td>NaN</td>\n      <td>NaN</td>\n    </tr>\n    <tr>\n      <th>2004-01-07</th>\n      <td>8:30</td>\n      <td>NaN</td>\n      <td>NaN</td>\n      <td>NaN</td>\n      <td>NaN</td>\n      <td>NaN</td>\n      <td>NaN</td>\n    </tr>\n    <tr>\n      <th>...</th>\n      <td>...</td>\n      <td>...</td>\n      <td>...</td>\n      <td>...</td>\n      <td>...</td>\n      <td>...</td>\n      <td>...</td>\n    </tr>\n    <tr>\n      <th>2013-12-18</th>\n      <td>7:52</td>\n      <td>NaN</td>\n      <td>NaN</td>\n      <td>NaN</td>\n      <td>NaN</td>\n      <td>NaN</td>\n      <td>NaN</td>\n    </tr>\n    <tr>\n      <th>2013-12-19</th>\n      <td>9:09</td>\n      <td>NaN</td>\n      <td>NaN</td>\n      <td>NaN</td>\n      <td>NaN</td>\n      <td>NaN</td>\n      <td>NaN</td>\n    </tr>\n    <tr>\n      <th>2013-12-20</th>\n      <td>8:00</td>\n      <td>NaN</td>\n      <td>NaN</td>\n      <td>NaN</td>\n      <td>NaN</td>\n      <td>NaN</td>\n      <td>NaN</td>\n    </tr>\n    <tr>\n      <th>2013-12-23</th>\n      <td>8:10</td>\n      <td>NaN</td>\n      <td>NaN</td>\n      <td>NaN</td>\n      <td>NaN</td>\n      <td>NaN</td>\n      <td>NaN</td>\n    </tr>\n    <tr>\n      <th>2013-12-30</th>\n      <td>8:40</td>\n      <td>NaN</td>\n      <td>NaN</td>\n      <td>NaN</td>\n      <td>NaN</td>\n      <td>NaN</td>\n      <td>NaN</td>\n    </tr>\n  </tbody>\n</table>\n<p>915 rows × 7 columns</p>\n</div>"
     },
     "execution_count": 3,
     "metadata": {},
     "output_type": "execute_result"
    }
   ],
   "source": [
    "evaluation_df = pd.read_csv(\"bbdc_2023_AWI_data_evaluate_skeleton_student.csv\", sep=';')\n",
    "evaluation_df[\"Datum\"] = pd.to_datetime(evaluation_df[\"Datum\"], dayfirst=True)\n",
    "\n",
    "evaluation_df = evaluation_df.set_index(\"Datum\")\n",
    "evaluation_df"
   ],
   "metadata": {
    "collapsed": false,
    "pycharm": {
     "name": "#%%\n"
    }
   }
  },
  {
   "cell_type": "code",
   "execution_count": 4,
   "outputs": [
    {
     "data": {
      "text/plain": "           Uhrzeit   SECCI_y  Temperatur_y  Salinität_y     NO2_y     NO3_y\nDatum                                                                      \n2004-01-02    7:34  1.617067      6.553455    31.864348  2.254631  4.762481\n2004-01-05   14:10  1.643060      6.088521    32.111425  2.235132  5.912918\n2004-01-06    9:05  1.685219      6.120648    32.167613  2.302919  7.537157\n2004-01-07    8:30  1.602151      5.974169    32.337142  2.176948  7.308833\n2004-01-08    9:00  1.702518      5.876904    32.223412  2.178462  8.268010\n...            ...       ...           ...          ...       ...       ...\n2004-12-20    7:00  2.743930      7.212191    32.924085  1.496577  4.874997\n2004-12-21    8:32  2.742129      7.108264    32.915009  1.529489  5.232659\n2004-12-27   13:07  2.789803      6.601969    32.824257  1.553184  7.488319\n2004-12-29    9:00  2.624775      6.493439    32.829373  1.559123  8.099481\n2004-12-30    8:05  2.642079      6.405611    32.866496  1.563589  8.050407\n\n[233 rows x 6 columns]",
      "text/html": "<div>\n<style scoped>\n    .dataframe tbody tr th:only-of-type {\n        vertical-align: middle;\n    }\n\n    .dataframe tbody tr th {\n        vertical-align: top;\n    }\n\n    .dataframe thead th {\n        text-align: right;\n    }\n</style>\n<table border=\"1\" class=\"dataframe\">\n  <thead>\n    <tr style=\"text-align: right;\">\n      <th></th>\n      <th>Uhrzeit</th>\n      <th>SECCI_y</th>\n      <th>Temperatur_y</th>\n      <th>Salinität_y</th>\n      <th>NO2_y</th>\n      <th>NO3_y</th>\n    </tr>\n    <tr>\n      <th>Datum</th>\n      <th></th>\n      <th></th>\n      <th></th>\n      <th></th>\n      <th></th>\n      <th></th>\n    </tr>\n  </thead>\n  <tbody>\n    <tr>\n      <th>2004-01-02</th>\n      <td>7:34</td>\n      <td>1.617067</td>\n      <td>6.553455</td>\n      <td>31.864348</td>\n      <td>2.254631</td>\n      <td>4.762481</td>\n    </tr>\n    <tr>\n      <th>2004-01-05</th>\n      <td>14:10</td>\n      <td>1.643060</td>\n      <td>6.088521</td>\n      <td>32.111425</td>\n      <td>2.235132</td>\n      <td>5.912918</td>\n    </tr>\n    <tr>\n      <th>2004-01-06</th>\n      <td>9:05</td>\n      <td>1.685219</td>\n      <td>6.120648</td>\n      <td>32.167613</td>\n      <td>2.302919</td>\n      <td>7.537157</td>\n    </tr>\n    <tr>\n      <th>2004-01-07</th>\n      <td>8:30</td>\n      <td>1.602151</td>\n      <td>5.974169</td>\n      <td>32.337142</td>\n      <td>2.176948</td>\n      <td>7.308833</td>\n    </tr>\n    <tr>\n      <th>2004-01-08</th>\n      <td>9:00</td>\n      <td>1.702518</td>\n      <td>5.876904</td>\n      <td>32.223412</td>\n      <td>2.178462</td>\n      <td>8.268010</td>\n    </tr>\n    <tr>\n      <th>...</th>\n      <td>...</td>\n      <td>...</td>\n      <td>...</td>\n      <td>...</td>\n      <td>...</td>\n      <td>...</td>\n    </tr>\n    <tr>\n      <th>2004-12-20</th>\n      <td>7:00</td>\n      <td>2.743930</td>\n      <td>7.212191</td>\n      <td>32.924085</td>\n      <td>1.496577</td>\n      <td>4.874997</td>\n    </tr>\n    <tr>\n      <th>2004-12-21</th>\n      <td>8:32</td>\n      <td>2.742129</td>\n      <td>7.108264</td>\n      <td>32.915009</td>\n      <td>1.529489</td>\n      <td>5.232659</td>\n    </tr>\n    <tr>\n      <th>2004-12-27</th>\n      <td>13:07</td>\n      <td>2.789803</td>\n      <td>6.601969</td>\n      <td>32.824257</td>\n      <td>1.553184</td>\n      <td>7.488319</td>\n    </tr>\n    <tr>\n      <th>2004-12-29</th>\n      <td>9:00</td>\n      <td>2.624775</td>\n      <td>6.493439</td>\n      <td>32.829373</td>\n      <td>1.559123</td>\n      <td>8.099481</td>\n    </tr>\n    <tr>\n      <th>2004-12-30</th>\n      <td>8:05</td>\n      <td>2.642079</td>\n      <td>6.405611</td>\n      <td>32.866496</td>\n      <td>1.563589</td>\n      <td>8.050407</td>\n    </tr>\n  </tbody>\n</table>\n<p>233 rows × 6 columns</p>\n</div>"
     },
     "execution_count": 4,
     "metadata": {},
     "output_type": "execute_result"
    }
   ],
   "source": [
    "merged_df_2004 = pd.merge(evaluation_df, df_result, on=\"Datum\")\n",
    "merged_df_2004.drop([\"SECCI_x\", \"Temperatur_x\" , \"Salinität_x\",\"NO2_x\", \"NO3_x\" ,\"NOx\"], axis = 1, inplace =True)\n",
    "\n",
    "merged_df_2004"
   ],
   "metadata": {
    "collapsed": false,
    "pycharm": {
     "name": "#%%\n"
    }
   }
  },
  {
   "cell_type": "code",
   "execution_count": 5,
   "outputs": [
    {
     "name": "stderr",
     "output_type": "stream",
     "text": [
      "/var/folders/gp/8l9268717m5fnd6hgnjf7x_m0000gn/T/ipykernel_67196/1014096981.py:1: FutureWarning: Dropping of nuisance columns in DataFrame reductions (with 'numeric_only=None') is deprecated; in a future version this will raise TypeError.  Select only valid columns before calling the reduction.\n",
      "  merged_df_2004.mean()\n"
     ]
    },
    {
     "data": {
      "text/plain": "SECCI_y          3.821063\nTemperatur_y    10.845538\nSalinität_y     32.203677\nNO2_y            0.994492\nNO3_y            7.707745\ndtype: float64"
     },
     "execution_count": 5,
     "metadata": {},
     "output_type": "execute_result"
    }
   ],
   "source": [
    "merged_df_2004.mean()"
   ],
   "metadata": {
    "collapsed": false,
    "pycharm": {
     "name": "#%%\n"
    }
   }
  },
  {
   "cell_type": "code",
   "execution_count": 6,
   "outputs": [
    {
     "name": "stderr",
     "output_type": "stream",
     "text": [
      "/Users/bjarne/opt/anaconda3/lib/python3.9/site-packages/statsmodels/tsa/base/tsa_model.py:471: ValueWarning: A date index has been provided, but it has no associated frequency information and so will be ignored when e.g. forecasting.\n",
      "  self._init_dates(dates, freq)\n"
     ]
    },
    {
     "data": {
      "text/plain": "SECCI          3.610015\nTemperatur    10.481805\nSalinität     32.183003\nNO2            0.849601\nNO3            9.483912\ndtype: float64"
     },
     "execution_count": 6,
     "metadata": {},
     "output_type": "execute_result"
    }
   ],
   "source": [
    "df_train_2011 = df_input[ :\"12.31.2010\"]     # TRAIN DATEN BIS \" \"\n",
    "#df_test = df_input[\"01.01.2003\":]       # TEST DATEN VON \" \"\n",
    "\n",
    "## VAR fit\n",
    "\n",
    "model = VAR(df_train_2011)\n",
    "results = model.fit(351)        # MODEL FIT (LAG)\n",
    "lag = results.k_ar\n",
    "\n",
    "## VAR forecast\n",
    "\n",
    "forecast = results.forecast(df_train.values[-lag:], steps=1095)        # 365 STEPS FORECAST\n",
    "\n",
    "## RMSE/MEANS/VARIANCE\n",
    "\n",
    "from sklearn.metrics import mean_squared_error\n",
    "#RMSE = mean_squared_error(df_test[0:365], forecast, squared=False)\n",
    "forecast_to_array = np.array(forecast)\n",
    "df_result_2011 = pd.DataFrame(forecast_to_array)\n",
    "df_result_2011 = df_result_2011.rename(columns={df_result_2011.columns[0]: 'SECCI'})\n",
    "df_result_2011 = df_result_2011.rename(columns={df_result_2011.columns[1]: 'Temperatur'})\n",
    "df_result_2011 = df_result_2011.rename(columns={df_result_2011.columns[2]: 'Salinität'})\n",
    "df_result_2011 = df_result_2011.rename(columns={df_result_2011.columns[3]: 'NO2'})\n",
    "df_result_2011 = df_result_2011.rename(columns={df_result_2011.columns[4]: 'NO3'})\n",
    "\n",
    "df_result_2011[\"Datum\"] = pd.date_range(start='01.01.2011', periods=len(df_result_2011), freq='D')\n",
    "df_result_2011[\"Datum\"] = pd.to_datetime(df_result_2011[\"Datum\"], dayfirst=True)\n",
    "df_result_2011 = df_result_2011.set_index(\"Datum\")\n",
    "df_result_2011.mean()"
   ],
   "metadata": {
    "collapsed": false,
    "pycharm": {
     "name": "#%%\n"
    }
   }
  },
  {
   "cell_type": "code",
   "execution_count": 7,
   "outputs": [
    {
     "data": {
      "text/plain": "           Uhrzeit   SECCI_y  Temperatur_y  Salinität_y     NO2_y      NO3_y\nDatum                                                                       \n2011-01-03    9:10  1.583678      6.472839    31.921483  2.440559   6.410905\n2011-01-04    9:20  1.747883      6.213539    31.758727  2.355295   8.566585\n2011-01-05    8:25  1.533556      6.205774    32.009467  2.374308   7.851314\n2011-01-06    8:35  1.603672      6.151263    31.992411  2.395997   9.041850\n2011-01-07    9:10  1.500396      5.994855    32.058119  2.270796   9.716384\n...            ...       ...           ...          ...       ...        ...\n2013-12-18    7:52  2.278018      7.151897    32.801348  1.328532  11.680482\n2013-12-19    9:09  2.274155      7.054404    32.804390  1.331587  11.871329\n2013-12-20    8:00  2.272916      6.958818    32.807290  1.333308  12.036688\n2013-12-23    8:10  2.257929      6.674011    32.819850  1.339212  12.499891\n2013-12-30    8:40  2.246821      6.044819    32.779171  1.360647  13.919272\n\n[681 rows x 6 columns]",
      "text/html": "<div>\n<style scoped>\n    .dataframe tbody tr th:only-of-type {\n        vertical-align: middle;\n    }\n\n    .dataframe tbody tr th {\n        vertical-align: top;\n    }\n\n    .dataframe thead th {\n        text-align: right;\n    }\n</style>\n<table border=\"1\" class=\"dataframe\">\n  <thead>\n    <tr style=\"text-align: right;\">\n      <th></th>\n      <th>Uhrzeit</th>\n      <th>SECCI_y</th>\n      <th>Temperatur_y</th>\n      <th>Salinität_y</th>\n      <th>NO2_y</th>\n      <th>NO3_y</th>\n    </tr>\n    <tr>\n      <th>Datum</th>\n      <th></th>\n      <th></th>\n      <th></th>\n      <th></th>\n      <th></th>\n      <th></th>\n    </tr>\n  </thead>\n  <tbody>\n    <tr>\n      <th>2011-01-03</th>\n      <td>9:10</td>\n      <td>1.583678</td>\n      <td>6.472839</td>\n      <td>31.921483</td>\n      <td>2.440559</td>\n      <td>6.410905</td>\n    </tr>\n    <tr>\n      <th>2011-01-04</th>\n      <td>9:20</td>\n      <td>1.747883</td>\n      <td>6.213539</td>\n      <td>31.758727</td>\n      <td>2.355295</td>\n      <td>8.566585</td>\n    </tr>\n    <tr>\n      <th>2011-01-05</th>\n      <td>8:25</td>\n      <td>1.533556</td>\n      <td>6.205774</td>\n      <td>32.009467</td>\n      <td>2.374308</td>\n      <td>7.851314</td>\n    </tr>\n    <tr>\n      <th>2011-01-06</th>\n      <td>8:35</td>\n      <td>1.603672</td>\n      <td>6.151263</td>\n      <td>31.992411</td>\n      <td>2.395997</td>\n      <td>9.041850</td>\n    </tr>\n    <tr>\n      <th>2011-01-07</th>\n      <td>9:10</td>\n      <td>1.500396</td>\n      <td>5.994855</td>\n      <td>32.058119</td>\n      <td>2.270796</td>\n      <td>9.716384</td>\n    </tr>\n    <tr>\n      <th>...</th>\n      <td>...</td>\n      <td>...</td>\n      <td>...</td>\n      <td>...</td>\n      <td>...</td>\n      <td>...</td>\n    </tr>\n    <tr>\n      <th>2013-12-18</th>\n      <td>7:52</td>\n      <td>2.278018</td>\n      <td>7.151897</td>\n      <td>32.801348</td>\n      <td>1.328532</td>\n      <td>11.680482</td>\n    </tr>\n    <tr>\n      <th>2013-12-19</th>\n      <td>9:09</td>\n      <td>2.274155</td>\n      <td>7.054404</td>\n      <td>32.804390</td>\n      <td>1.331587</td>\n      <td>11.871329</td>\n    </tr>\n    <tr>\n      <th>2013-12-20</th>\n      <td>8:00</td>\n      <td>2.272916</td>\n      <td>6.958818</td>\n      <td>32.807290</td>\n      <td>1.333308</td>\n      <td>12.036688</td>\n    </tr>\n    <tr>\n      <th>2013-12-23</th>\n      <td>8:10</td>\n      <td>2.257929</td>\n      <td>6.674011</td>\n      <td>32.819850</td>\n      <td>1.339212</td>\n      <td>12.499891</td>\n    </tr>\n    <tr>\n      <th>2013-12-30</th>\n      <td>8:40</td>\n      <td>2.246821</td>\n      <td>6.044819</td>\n      <td>32.779171</td>\n      <td>1.360647</td>\n      <td>13.919272</td>\n    </tr>\n  </tbody>\n</table>\n<p>681 rows × 6 columns</p>\n</div>"
     },
     "execution_count": 7,
     "metadata": {},
     "output_type": "execute_result"
    }
   ],
   "source": [
    "merged_df_2011 = pd.merge(evaluation_df, df_result_2011, on=\"Datum\")\n",
    "merged_df_2011.drop([\"SECCI_x\", \"Temperatur_x\" , \"Salinität_x\",\"NO2_x\", \"NO3_x\" ,\"NOx\"], axis = 1, inplace =True)\n",
    "\n",
    "merged_df_2011"
   ],
   "metadata": {
    "collapsed": false,
    "pycharm": {
     "name": "#%%\n"
    }
   }
  },
  {
   "cell_type": "code",
   "execution_count": 8,
   "outputs": [
    {
     "name": "stderr",
     "output_type": "stream",
     "text": [
      "/var/folders/gp/8l9268717m5fnd6hgnjf7x_m0000gn/T/ipykernel_67196/1767184143.py:1: FutureWarning: The frame.append method is deprecated and will be removed from pandas in a future version. Use pandas.concat instead.\n",
      "  merged_df_2004_and_2011_and_2012 = merged_df_2004.append(merged_df_2011)\n"
     ]
    },
    {
     "data": {
      "text/plain": "           Uhrzeit   SECCI_y  Temperatur_y  Salinität_y     NO2_y      NO3_y\nDatum                                                                       \n2004-01-02    7:34  1.617067      6.553455    31.864348  2.254631   4.762481\n2004-01-05   14:10  1.643060      6.088521    32.111425  2.235132   5.912918\n2004-01-06    9:05  1.685219      6.120648    32.167613  2.302919   7.537157\n2004-01-07    8:30  1.602151      5.974169    32.337142  2.176948   7.308833\n2004-01-08    9:00  1.702518      5.876904    32.223412  2.178462   8.268010\n...            ...       ...           ...          ...       ...        ...\n2013-12-18    7:52  2.278018      7.151897    32.801348  1.328532  11.680482\n2013-12-19    9:09  2.274155      7.054404    32.804390  1.331587  11.871329\n2013-12-20    8:00  2.272916      6.958818    32.807290  1.333308  12.036688\n2013-12-23    8:10  2.257929      6.674011    32.819850  1.339212  12.499891\n2013-12-30    8:40  2.246821      6.044819    32.779171  1.360647  13.919272\n\n[914 rows x 6 columns]",
      "text/html": "<div>\n<style scoped>\n    .dataframe tbody tr th:only-of-type {\n        vertical-align: middle;\n    }\n\n    .dataframe tbody tr th {\n        vertical-align: top;\n    }\n\n    .dataframe thead th {\n        text-align: right;\n    }\n</style>\n<table border=\"1\" class=\"dataframe\">\n  <thead>\n    <tr style=\"text-align: right;\">\n      <th></th>\n      <th>Uhrzeit</th>\n      <th>SECCI_y</th>\n      <th>Temperatur_y</th>\n      <th>Salinität_y</th>\n      <th>NO2_y</th>\n      <th>NO3_y</th>\n    </tr>\n    <tr>\n      <th>Datum</th>\n      <th></th>\n      <th></th>\n      <th></th>\n      <th></th>\n      <th></th>\n      <th></th>\n    </tr>\n  </thead>\n  <tbody>\n    <tr>\n      <th>2004-01-02</th>\n      <td>7:34</td>\n      <td>1.617067</td>\n      <td>6.553455</td>\n      <td>31.864348</td>\n      <td>2.254631</td>\n      <td>4.762481</td>\n    </tr>\n    <tr>\n      <th>2004-01-05</th>\n      <td>14:10</td>\n      <td>1.643060</td>\n      <td>6.088521</td>\n      <td>32.111425</td>\n      <td>2.235132</td>\n      <td>5.912918</td>\n    </tr>\n    <tr>\n      <th>2004-01-06</th>\n      <td>9:05</td>\n      <td>1.685219</td>\n      <td>6.120648</td>\n      <td>32.167613</td>\n      <td>2.302919</td>\n      <td>7.537157</td>\n    </tr>\n    <tr>\n      <th>2004-01-07</th>\n      <td>8:30</td>\n      <td>1.602151</td>\n      <td>5.974169</td>\n      <td>32.337142</td>\n      <td>2.176948</td>\n      <td>7.308833</td>\n    </tr>\n    <tr>\n      <th>2004-01-08</th>\n      <td>9:00</td>\n      <td>1.702518</td>\n      <td>5.876904</td>\n      <td>32.223412</td>\n      <td>2.178462</td>\n      <td>8.268010</td>\n    </tr>\n    <tr>\n      <th>...</th>\n      <td>...</td>\n      <td>...</td>\n      <td>...</td>\n      <td>...</td>\n      <td>...</td>\n      <td>...</td>\n    </tr>\n    <tr>\n      <th>2013-12-18</th>\n      <td>7:52</td>\n      <td>2.278018</td>\n      <td>7.151897</td>\n      <td>32.801348</td>\n      <td>1.328532</td>\n      <td>11.680482</td>\n    </tr>\n    <tr>\n      <th>2013-12-19</th>\n      <td>9:09</td>\n      <td>2.274155</td>\n      <td>7.054404</td>\n      <td>32.804390</td>\n      <td>1.331587</td>\n      <td>11.871329</td>\n    </tr>\n    <tr>\n      <th>2013-12-20</th>\n      <td>8:00</td>\n      <td>2.272916</td>\n      <td>6.958818</td>\n      <td>32.807290</td>\n      <td>1.333308</td>\n      <td>12.036688</td>\n    </tr>\n    <tr>\n      <th>2013-12-23</th>\n      <td>8:10</td>\n      <td>2.257929</td>\n      <td>6.674011</td>\n      <td>32.819850</td>\n      <td>1.339212</td>\n      <td>12.499891</td>\n    </tr>\n    <tr>\n      <th>2013-12-30</th>\n      <td>8:40</td>\n      <td>2.246821</td>\n      <td>6.044819</td>\n      <td>32.779171</td>\n      <td>1.360647</td>\n      <td>13.919272</td>\n    </tr>\n  </tbody>\n</table>\n<p>914 rows × 6 columns</p>\n</div>"
     },
     "execution_count": 8,
     "metadata": {},
     "output_type": "execute_result"
    }
   ],
   "source": [
    "merged_df_2004_and_2011_and_2012 = merged_df_2004.append(merged_df_2011)\n",
    "merged_df_2004_and_2011_and_2012"
   ],
   "metadata": {
    "collapsed": false,
    "pycharm": {
     "name": "#%%\n"
    }
   }
  },
  {
   "cell_type": "markdown",
   "source": [],
   "metadata": {
    "collapsed": false,
    "pycharm": {
     "name": "#%% md\n"
    }
   }
  },
  {
   "cell_type": "code",
   "execution_count": 9,
   "outputs": [
    {
     "name": "stderr",
     "output_type": "stream",
     "text": [
      "/var/folders/gp/8l9268717m5fnd6hgnjf7x_m0000gn/T/ipykernel_67196/1307778595.py:1: FutureWarning: Dropping of nuisance columns in DataFrame reductions (with 'numeric_only=None') is deprecated; in a future version this will raise TypeError.  Select only valid columns before calling the reduction.\n",
      "  merged_df_2004_and_2011_and_2012.mean()\n"
     ]
    },
    {
     "data": {
      "text/plain": "SECCI_y          3.683682\nTemperatur_y    10.634692\nSalinität_y     32.176706\nNO2_y            0.877679\nNO3_y            8.992264\ndtype: float64"
     },
     "execution_count": 9,
     "metadata": {},
     "output_type": "execute_result"
    }
   ],
   "source": [
    "merged_df_2004_and_2011_and_2012.mean()"
   ],
   "metadata": {
    "collapsed": false,
    "pycharm": {
     "name": "#%%\n"
    }
   }
  },
  {
   "cell_type": "code",
   "execution_count": null,
   "outputs": [],
   "source": [
    "merged_df_2004_and_2011_and_2012.plot()"
   ],
   "metadata": {
    "collapsed": false,
    "pycharm": {
     "name": "#%%\n"
    }
   }
  },
  {
   "cell_type": "code",
   "execution_count": 10,
   "outputs": [
    {
     "name": "stderr",
     "output_type": "stream",
     "text": [
      "/var/folders/gp/8l9268717m5fnd6hgnjf7x_m0000gn/T/ipykernel_67196/1900750622.py:1: SettingWithCopyWarning: \n",
      "A value is trying to be set on a copy of a slice from a DataFrame\n",
      "\n",
      "See the caveats in the documentation: https://pandas.pydata.org/pandas-docs/stable/user_guide/indexing.html#returning-a-view-versus-a-copy\n",
      "  merged_df_2004_and_2011_and_2012[\"NO3_y\"][merged_df_2004_and_2011_and_2012[\"NO3_y\"] < 0] = 0\n"
     ]
    },
    {
     "data": {
      "text/plain": "           Uhrzeit   SECCI_y  Temperatur_y  Salinität_y     NO2_y      NO3_y  \\\nDatum                                                                          \n2004-01-02    7:34  1.617067      6.553455    31.864348  2.254631   4.762481   \n2004-01-05   14:10  1.643060      6.088521    32.111425  2.235132   5.912918   \n2004-01-06    9:05  1.685219      6.120648    32.167613  2.302919   7.537157   \n2004-01-07    8:30  1.602151      5.974169    32.337142  2.176948   7.308833   \n2004-01-08    9:00  1.702518      5.876904    32.223412  2.178462   8.268010   \n...            ...       ...           ...          ...       ...        ...   \n2013-12-18    7:52  2.278018      7.151897    32.801348  1.328532  11.680482   \n2013-12-19    9:09  2.274155      7.054404    32.804390  1.331587  11.871329   \n2013-12-20    8:00  2.272916      6.958818    32.807290  1.333308  12.036688   \n2013-12-23    8:10  2.257929      6.674011    32.819850  1.339212  12.499891   \n2013-12-30    8:40  2.246821      6.044819    32.779171  1.360647  13.919272   \n\n                  NOx  \nDatum                  \n2004-01-02   7.017112  \n2004-01-05   8.148051  \n2004-01-06   9.840076  \n2004-01-07   9.485782  \n2004-01-08  10.446472  \n...               ...  \n2013-12-18  13.009015  \n2013-12-19  13.202916  \n2013-12-20  13.369996  \n2013-12-23  13.839103  \n2013-12-30  15.279919  \n\n[914 rows x 7 columns]",
      "text/html": "<div>\n<style scoped>\n    .dataframe tbody tr th:only-of-type {\n        vertical-align: middle;\n    }\n\n    .dataframe tbody tr th {\n        vertical-align: top;\n    }\n\n    .dataframe thead th {\n        text-align: right;\n    }\n</style>\n<table border=\"1\" class=\"dataframe\">\n  <thead>\n    <tr style=\"text-align: right;\">\n      <th></th>\n      <th>Uhrzeit</th>\n      <th>SECCI_y</th>\n      <th>Temperatur_y</th>\n      <th>Salinität_y</th>\n      <th>NO2_y</th>\n      <th>NO3_y</th>\n      <th>NOx</th>\n    </tr>\n    <tr>\n      <th>Datum</th>\n      <th></th>\n      <th></th>\n      <th></th>\n      <th></th>\n      <th></th>\n      <th></th>\n      <th></th>\n    </tr>\n  </thead>\n  <tbody>\n    <tr>\n      <th>2004-01-02</th>\n      <td>7:34</td>\n      <td>1.617067</td>\n      <td>6.553455</td>\n      <td>31.864348</td>\n      <td>2.254631</td>\n      <td>4.762481</td>\n      <td>7.017112</td>\n    </tr>\n    <tr>\n      <th>2004-01-05</th>\n      <td>14:10</td>\n      <td>1.643060</td>\n      <td>6.088521</td>\n      <td>32.111425</td>\n      <td>2.235132</td>\n      <td>5.912918</td>\n      <td>8.148051</td>\n    </tr>\n    <tr>\n      <th>2004-01-06</th>\n      <td>9:05</td>\n      <td>1.685219</td>\n      <td>6.120648</td>\n      <td>32.167613</td>\n      <td>2.302919</td>\n      <td>7.537157</td>\n      <td>9.840076</td>\n    </tr>\n    <tr>\n      <th>2004-01-07</th>\n      <td>8:30</td>\n      <td>1.602151</td>\n      <td>5.974169</td>\n      <td>32.337142</td>\n      <td>2.176948</td>\n      <td>7.308833</td>\n      <td>9.485782</td>\n    </tr>\n    <tr>\n      <th>2004-01-08</th>\n      <td>9:00</td>\n      <td>1.702518</td>\n      <td>5.876904</td>\n      <td>32.223412</td>\n      <td>2.178462</td>\n      <td>8.268010</td>\n      <td>10.446472</td>\n    </tr>\n    <tr>\n      <th>...</th>\n      <td>...</td>\n      <td>...</td>\n      <td>...</td>\n      <td>...</td>\n      <td>...</td>\n      <td>...</td>\n      <td>...</td>\n    </tr>\n    <tr>\n      <th>2013-12-18</th>\n      <td>7:52</td>\n      <td>2.278018</td>\n      <td>7.151897</td>\n      <td>32.801348</td>\n      <td>1.328532</td>\n      <td>11.680482</td>\n      <td>13.009015</td>\n    </tr>\n    <tr>\n      <th>2013-12-19</th>\n      <td>9:09</td>\n      <td>2.274155</td>\n      <td>7.054404</td>\n      <td>32.804390</td>\n      <td>1.331587</td>\n      <td>11.871329</td>\n      <td>13.202916</td>\n    </tr>\n    <tr>\n      <th>2013-12-20</th>\n      <td>8:00</td>\n      <td>2.272916</td>\n      <td>6.958818</td>\n      <td>32.807290</td>\n      <td>1.333308</td>\n      <td>12.036688</td>\n      <td>13.369996</td>\n    </tr>\n    <tr>\n      <th>2013-12-23</th>\n      <td>8:10</td>\n      <td>2.257929</td>\n      <td>6.674011</td>\n      <td>32.819850</td>\n      <td>1.339212</td>\n      <td>12.499891</td>\n      <td>13.839103</td>\n    </tr>\n    <tr>\n      <th>2013-12-30</th>\n      <td>8:40</td>\n      <td>2.246821</td>\n      <td>6.044819</td>\n      <td>32.779171</td>\n      <td>1.360647</td>\n      <td>13.919272</td>\n      <td>15.279919</td>\n    </tr>\n  </tbody>\n</table>\n<p>914 rows × 7 columns</p>\n</div>"
     },
     "execution_count": 10,
     "metadata": {},
     "output_type": "execute_result"
    }
   ],
   "source": [
    "merged_df_2004_and_2011_and_2012[\"NO3_y\"][merged_df_2004_and_2011_and_2012[\"NO3_y\"] < 0] = 0\n",
    "\n",
    "merged_df_2004_and_2011_and_2012[\"NOx\"] = merged_df_2004_and_2011_and_2012[\"NO2_y\"] + merged_df_2004_and_2011_and_2012[\"NO3_y\"]\n",
    "\n",
    "\n",
    "\n",
    "VAR_FULL_PREDICTION = merged_df_2004_and_2011_and_2012\n",
    "\n",
    "VAR_FULL_PREDICTION"
   ],
   "metadata": {
    "collapsed": false,
    "pycharm": {
     "name": "#%%\n"
    }
   }
  },
  {
   "cell_type": "code",
   "execution_count": 11,
   "outputs": [
    {
     "name": "stderr",
     "output_type": "stream",
     "text": [
      "/var/folders/gp/8l9268717m5fnd6hgnjf7x_m0000gn/T/ipykernel_67196/2391426374.py:1: FutureWarning: Dropping of nuisance columns in DataFrame reductions (with 'numeric_only=None') is deprecated; in a future version this will raise TypeError.  Select only valid columns before calling the reduction.\n",
      "  VAR_FULL_PREDICTION.mean()\n"
     ]
    },
    {
     "data": {
      "text/plain": "SECCI_y          3.683682\nTemperatur_y    10.634692\nSalinität_y     32.176706\nNO2_y            0.877679\nNO3_y            9.009019\nNOx              9.886699\ndtype: float64"
     },
     "execution_count": 11,
     "metadata": {},
     "output_type": "execute_result"
    }
   ],
   "source": [
    "VAR_FULL_PREDICTION.mean()"
   ],
   "metadata": {
    "collapsed": false,
    "pycharm": {
     "name": "#%%\n"
    }
   }
  },
  {
   "cell_type": "code",
   "execution_count": 12,
   "outputs": [
    {
     "name": "stdout",
     "output_type": "stream",
     "text": [
      "FORECAST:  SECCI_y          0.833399\n",
      "Temperatur_y    23.229638\n",
      "Salinität_y      0.159929\n",
      "NO2_y            0.288328\n",
      "NO3_y           56.004567\n",
      "NOx             60.503947\n",
      "dtype: float64\n"
     ]
    },
    {
     "name": "stderr",
     "output_type": "stream",
     "text": [
      "/Users/bjarne/opt/anaconda3/lib/python3.9/site-packages/numpy/core/fromnumeric.py:3721: FutureWarning: Dropping of nuisance columns in DataFrame reductions (with 'numeric_only=None') is deprecated; in a future version this will raise TypeError.  Select only valid columns before calling the reduction.\n",
      "  return var(axis=axis, dtype=dtype, out=out, ddof=ddof, **kwargs)\n"
     ]
    }
   ],
   "source": [
    "print(\"FORECAST: \",np.var(merged_df_2004_and_2011_and_2012, axis=0))"
   ],
   "metadata": {
    "collapsed": false,
    "pycharm": {
     "name": "#%%\n"
    }
   }
  },
  {
   "cell_type": "code",
   "execution_count": null,
   "outputs": [],
   "source": [
    "VAR_FULL_PREDICTION.to_csv(\"VAR_FULL_PREDICTION_No_Negative.csv\")"
   ],
   "metadata": {
    "collapsed": false,
    "pycharm": {
     "name": "#%%\n"
    }
   }
  },
  {
   "cell_type": "markdown",
   "source": [],
   "metadata": {
    "collapsed": false,
    "pycharm": {
     "name": "#%% md\n"
    }
   }
  }
 ],
 "metadata": {
  "kernelspec": {
   "display_name": "Python 3",
   "language": "python",
   "name": "python3"
  },
  "language_info": {
   "codemirror_mode": {
    "name": "ipython",
    "version": 2
   },
   "file_extension": ".py",
   "mimetype": "text/x-python",
   "name": "python",
   "nbconvert_exporter": "python",
   "pygments_lexer": "ipython2",
   "version": "2.7.6"
  }
 },
 "nbformat": 4,
 "nbformat_minor": 0
}