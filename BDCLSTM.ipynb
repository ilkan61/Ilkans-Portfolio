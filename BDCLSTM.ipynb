{
 "cells": [
  {
   "cell_type": "code",
   "execution_count": 123,
   "metadata": {
    "pycharm": {
     "name": "#%%\n"
    }
   },
   "outputs": [],
   "source": [
    "import numpy as np\n",
    "import pandas as pd\n",
    "from sklearn.preprocessing import StandardScaler\n",
    "from keras.models import Sequential\n",
    "from keras.layers import Dense, LSTM, Dropout\n",
    "import matplotlib.pyplot as plt\n",
    "from sklearn.metrics import mean_squared_error\n",
    "from keras.callbacks import EarlyStopping, ModelCheckpoint, ReduceLROnPlateau\n",
    "import tensorflow as tf\n",
    "from keras import backend as K\n",
    "import keras_tuner as kt\n",
    "from keras_tuner import GridSearch\n",
    "from keras_tuner.engine.hyperparameters import HyperParameters\n",
    "from sklearn.model_selection import TimeSeriesSplit"
   ]
  },
  {
   "cell_type": "code",
   "execution_count": 124,
   "outputs": [],
   "source": [
    "num_threads = 16\n",
    "config = tf.compat.v1.ConfigProto(intra_op_parallelism_threads=num_threads,\n",
    "                                  inter_op_parallelism_threads=num_threads)\n",
    "session = tf.compat.v1.Session(config=config)\n",
    "K.set_session(session)"
   ],
   "metadata": {
    "collapsed": false,
    "pycharm": {
     "name": "#%%\n"
    }
   }
  },
  {
   "cell_type": "code",
   "execution_count": 125,
   "metadata": {
    "pycharm": {
     "name": "#%%\n"
    }
   },
   "outputs": [],
   "source": [
    "def load_data(file_path):\n",
    "    # Load input data\n",
    "    input_data = pd.read_csv(file_path, sep=\",\")\n",
    "\n",
    "    # Convert \"Datum\" column to datetime and set it as the index\n",
    "    input_data = input_data.set_index(pd.to_datetime(input_data[\"Datum\"], dayfirst=True))\n",
    "\n",
    "    # Select the features to use for training and testing\n",
    "    input_data = input_data[[\"SECCI\", \"Temperatur\", \"Salinität\", \"NO2\", \"NO3\"]]\n",
    "    return input_data"
   ]
  },
  {
   "cell_type": "code",
   "execution_count": 126,
   "outputs": [],
   "source": [
    "\n",
    "def add_fourier_terms(data, period, num_terms):\n",
    "    temp_data = data.copy()\n",
    "    for i in range(1, num_terms + 1):\n",
    "        temp_data[f\"sin_{i}\"] = np.sin(2 * np.pi * i * data.index.dayofyear / period)\n",
    "        temp_data[f\"cos_{i}\"] = np.cos(2 * np.pi * i * data.index.dayofyear / period)\n",
    "    return temp_data"
   ],
   "metadata": {
    "collapsed": false,
    "pycharm": {
     "name": "#%%\n"
    }
   }
  },
  {
   "cell_type": "code",
   "execution_count": 127,
   "outputs": [],
   "source": [
    "\n",
    "def scale_data(train_data):\n",
    "    # Scale the data\n",
    "    scaler = StandardScaler()\n",
    "    train_data_scaled = scaler.fit_transform(train_data)\n",
    "    return train_data_scaled,  scaler"
   ],
   "metadata": {
    "collapsed": false,
    "pycharm": {
     "name": "#%%\n"
    }
   }
  },
  {
   "cell_type": "code",
   "execution_count": 128,
   "outputs": [],
   "source": [
    "# Define the LSTM model\n",
    "def define_model(input_shape):\n",
    "    # Define the LSTM model\n",
    "    model = Sequential()\n",
    "    model.add(LSTM(units=256, activation='tanh', return_sequences=True, input_shape=input_shape))\n",
    "    model.add(Dropout(0.8))\n",
    "    model.add(LSTM(units=128, activation='tanh', return_sequences=True))\n",
    "    model.add(Dropout(0.6))\n",
    "    model.add(LSTM(units=128, activation='tanh'))\n",
    "    model.add(Dropout(0.5))\n",
    "    model.add(Dense(units=5, activation='linear'))\n",
    "    model.compile(optimizer='Adam', loss='mean_squared_error')\n",
    "    return model"
   ],
   "metadata": {
    "collapsed": false,
    "pycharm": {
     "name": "#%%\n"
    }
   }
  },
  {
   "cell_type": "code",
   "execution_count": 129,
   "outputs": [],
   "source": [
    "def prepare_data(train_data):\n",
    "    # Separate features and target variables\n",
    "    train_x = train_data[:, :train_data.shape[1]]\n",
    "    train_y = train_data[:, :5]\n",
    "\n",
    "    # Reshape data for LSTM model\n",
    "    train_x = np.reshape(train_x, (train_x.shape[0], train_x.shape[1], 1))\n",
    "\n",
    "    return train_x, train_y"
   ],
   "metadata": {
    "collapsed": false,
    "pycharm": {
     "name": "#%%\n"
    }
   }
  },
  {
   "cell_type": "code",
   "execution_count": 130,
   "outputs": [],
   "source": [
    "def train_model(model, train_x, train_y):\n",
    "    # Define the callbacks\n",
    "    early_stop = EarlyStopping(monitor='loss', patience=5, verbose=0, mode='min')\n",
    "    checkpoint = ModelCheckpoint(\"best_model.h5\", monitor='loss', verbose=0, save_best_only=True, mode='min')\n",
    "    reduce_lr = ReduceLROnPlateau(monitor='loss', factor=0.1, patience=3, verbose=0, mode='min', min_delta=0.0001)\n",
    "\n",
    "    # Train the model\n",
    "    history = model.fit(train_x, train_y, epochs=100, batch_size=32, callbacks=[early_stop, checkpoint, reduce_lr])\n",
    "    return history"
   ],
   "metadata": {
    "collapsed": false,
    "pycharm": {
     "name": "#%%\n"
    }
   }
  },
  {
   "cell_type": "code",
   "execution_count": 131,
   "outputs": [],
   "source": [
    "def predict(model, x_data, scaler, y_data):\n",
    "    # Predict using the trained model\n",
    "    y_pred = model.predict(x_data)\n",
    "\n",
    "    # Scale back the predicted data\n",
    "    y_pred_scaled_back = scaler.inverse_transform(np.squeeze(np.concatenate((y_pred, y_data[:, 5:]), axis=1)))[:, :5]\n",
    "\n",
    "    return y_pred_scaled_back"
   ],
   "metadata": {
    "collapsed": false,
    "pycharm": {
     "name": "#%%\n"
    }
   }
  },
  {
   "cell_type": "code",
   "execution_count": 132,
   "outputs": [],
   "source": [
    "\n",
    "def plot_predicted_actual(y_true, y_pred):\n",
    "    # Plot the predicted and actual values for each column\n",
    "    col_names = [\"SECCI\", \"Temperatur\", \"Salinität\", \"NO2\", \"NO3\"]\n",
    "    plt.figure(figsize=(12, 6))\n",
    "    for i, col in enumerate(col_names):\n",
    "        plt.plot(y_true.index, y_pred[:, i], label=f\"{col}\")\n",
    "    plt.legend()\n",
    "    plt.show()"
   ],
   "metadata": {
    "collapsed": false,
    "pycharm": {
     "name": "#%%\n"
    }
   }
  },
  {
   "cell_type": "code",
   "execution_count": 133,
   "outputs": [
    {
     "data": {
      "text/plain": "'def tune_model(hp):\\n    model = Sequential()\\n    model.add(LSTM(units=hp.Choice(\\'units_1\\', values=[256]), activation=\\'tanh\\', return_sequences=True, input_shape=input_shape))\\n    model.add(Dropout(hp.Choice(\\'dropout_1\\', values=[0.8])))\\n    model.add(LSTM(units=hp.Choice(\\'units_2\\', values=[128]), activation=\\'tanh\\', return_sequences=True))\\n    model.add(Dropout(hp.Choice(\\'dropout_2\\', values=[0.6, 0.7])))\\n    model.add(LSTM(units=hp.Choice(\\'units_3\\', values=[128]), activation=\\'tanh\\'))\\n    model.add(Dropout(hp.Choice(\\'dropout_3\\', values=[0.5, 0.6])))\\n    model.add(Dense(units=5, activation=\\'linear\\'))\\n    model.compile(optimizer=hp.Choice(\"optimizer\", values=[\"RMSprop\", \"Adam\"]), loss=\\'mean_squared_error\\')\\n    return model'"
     },
     "execution_count": 133,
     "metadata": {},
     "output_type": "execute_result"
    }
   ],
   "source": [
    "\"\"\"def tune_model(hp):\n",
    "    model = Sequential()\n",
    "    model.add(LSTM(units=hp.Choice('units_1', values=[256]), activation='tanh', return_sequences=True, input_shape=input_shape))\n",
    "    model.add(Dropout(hp.Choice('dropout_1', values=[0.8])))\n",
    "    model.add(LSTM(units=hp.Choice('units_2', values=[128]), activation='tanh', return_sequences=True))\n",
    "    model.add(Dropout(hp.Choice('dropout_2', values=[0.6, 0.7])))\n",
    "    model.add(LSTM(units=hp.Choice('units_3', values=[128]), activation='tanh'))\n",
    "    model.add(Dropout(hp.Choice('dropout_3', values=[0.5, 0.6])))\n",
    "    model.add(Dense(units=5, activation='linear'))\n",
    "    model.compile(optimizer=hp.Choice(\"optimizer\", values=[\"RMSprop\", \"Adam\"]), loss='mean_squared_error')\n",
    "    return model\"\"\""
   ],
   "metadata": {
    "collapsed": false,
    "pycharm": {
     "name": "#%%\n"
    }
   }
  },
  {
   "cell_type": "code",
   "execution_count": 134,
   "outputs": [
    {
     "data": {
      "text/plain": "\"def tune_lstm_model_with_keras_tuner_cross_val(train_data_scaled, input_shape, n_splits=5):\\n    tscv = TimeSeriesSplit(n_splits=n_splits)\\n\\n    tuner = GridSearch(\\n        tune_model,  # the function that defines the model to be tuned\\n        objective='val_loss',\\n        max_trials=5,  # the number of combinations of hyperparameters to try\\n        executions_per_trial=2,  # the number of times to train each combination of hyperparameters\\n        directory='tuner_results',  # the directory to store the results\\n        project_name='lstm_tuning')  # the name of the project\\n\\n    for train_index, val_index in tscv.split(train_data_scaled):\\n        train_data_scaled_train = train_data_scaled[train_index]\\n        train_data_scaled_val = train_data_scaled[val_index]\\n\\n        # Prepare the data for training\\n        train_x, train_y = prepare_data(train_data_scaled_train)\\n        val_x, val_y = prepare_data(train_data_scaled_val)\\n\\n        # Start the hyperparameter search\\n        tuner.search(\\n            train_x, train_y,\\n            epochs=100,\\n            batch_size=64,\\n            validation_data=(val_x, val_y),\\n            callbacks=[EarlyStopping(patience=5, verbose=0),\\n                       ModelCheckpoint('best_model.h5', save_best_only=True, verbose=0),\\n                       ReduceLROnPlateau(monitor='val_loss', factor=0.1, patience=3, verbose=0, mode='min', min_delta=0.0001)]\\n        )\\n\\n\\n    # Get the best model and its hyperparameters\\n    best_model = tuner.get_best_models(num_models=1)[0]\\n    best_hyperparameters = tuner.get_best_hyperparameters()[0]\\n\\n    return best_model, best_hyperparameters\""
     },
     "execution_count": 134,
     "metadata": {},
     "output_type": "execute_result"
    }
   ],
   "source": [
    "\"\"\"def tune_lstm_model_with_keras_tuner_cross_val(train_data_scaled, input_shape, n_splits=5):\n",
    "    tscv = TimeSeriesSplit(n_splits=n_splits)\n",
    "\n",
    "    tuner = GridSearch(\n",
    "        tune_model,  # the function that defines the model to be tuned\n",
    "        objective='val_loss',\n",
    "        max_trials=5,  # the number of combinations of hyperparameters to try\n",
    "        executions_per_trial=2,  # the number of times to train each combination of hyperparameters\n",
    "        directory='tuner_results',  # the directory to store the results\n",
    "        project_name='lstm_tuning')  # the name of the project\n",
    "\n",
    "    for train_index, val_index in tscv.split(train_data_scaled):\n",
    "        train_data_scaled_train = train_data_scaled[train_index]\n",
    "        train_data_scaled_val = train_data_scaled[val_index]\n",
    "\n",
    "        # Prepare the data for training\n",
    "        train_x, train_y = prepare_data(train_data_scaled_train)\n",
    "        val_x, val_y = prepare_data(train_data_scaled_val)\n",
    "\n",
    "        # Start the hyperparameter search\n",
    "        tuner.search(\n",
    "            train_x, train_y,\n",
    "            epochs=100,\n",
    "            batch_size=64,\n",
    "            validation_data=(val_x, val_y),\n",
    "            callbacks=[EarlyStopping(patience=5, verbose=0),\n",
    "                       ModelCheckpoint('best_model.h5', save_best_only=True, verbose=0),\n",
    "                       ReduceLROnPlateau(monitor='val_loss', factor=0.1, patience=3, verbose=0, mode='min', min_delta=0.0001)]\n",
    "        )\n",
    "\n",
    "\n",
    "    # Get the best model and its hyperparameters\n",
    "    best_model = tuner.get_best_models(num_models=1)[0]\n",
    "    best_hyperparameters = tuner.get_best_hyperparameters()[0]\n",
    "\n",
    "    return best_model, best_hyperparameters\"\"\"\n",
    "\n"
   ],
   "metadata": {
    "collapsed": false,
    "pycharm": {
     "name": "#%%\n"
    }
   }
  },
  {
   "cell_type": "code",
   "execution_count": 135,
   "outputs": [],
   "source": [
    "# Example usage:\n",
    "input_data = load_data(\"df_cleaned_both_directions_interpolated.csv\")\n",
    "train_data = input_data.loc['1968-01-09':'2003-12-31']\n",
    "train_data_with_fourier = add_fourier_terms(train_data, 365, 8)\n",
    "train_data_scaled, scaler = scale_data(train_data_with_fourier)"
   ],
   "metadata": {
    "collapsed": false,
    "pycharm": {
     "name": "#%%\n"
    }
   }
  },
  {
   "cell_type": "code",
   "execution_count": 136,
   "outputs": [
    {
     "name": "stdout",
     "output_type": "stream",
     "text": [
      "Epoch 1/100\n",
      "411/411 [==============================] - 28s 56ms/step - loss: 0.4838 - lr: 0.0010\n",
      "Epoch 2/100\n",
      "411/411 [==============================] - 23s 56ms/step - loss: 0.2937 - lr: 0.0010\n",
      "Epoch 3/100\n",
      "411/411 [==============================] - 23s 57ms/step - loss: 0.2216 - lr: 0.0010\n",
      "Epoch 4/100\n",
      "411/411 [==============================] - 23s 56ms/step - loss: 0.1774 - lr: 0.0010\n",
      "Epoch 5/100\n",
      "411/411 [==============================] - 23s 56ms/step - loss: 0.1547 - lr: 0.0010\n",
      "Epoch 6/100\n",
      "411/411 [==============================] - 23s 56ms/step - loss: 0.1391 - lr: 0.0010\n",
      "Epoch 7/100\n",
      "411/411 [==============================] - 23s 56ms/step - loss: 0.1280 - lr: 0.0010\n",
      "Epoch 8/100\n",
      "411/411 [==============================] - 23s 56ms/step - loss: 0.1134 - lr: 0.0010\n",
      "Epoch 9/100\n",
      "411/411 [==============================] - 23s 56ms/step - loss: 0.0989 - lr: 0.0010\n",
      "Epoch 10/100\n",
      "411/411 [==============================] - 23s 57ms/step - loss: 0.0888 - lr: 0.0010\n",
      "Epoch 11/100\n",
      "411/411 [==============================] - 24s 58ms/step - loss: 0.0794 - lr: 0.0010\n",
      "Epoch 12/100\n",
      "411/411 [==============================] - 25s 61ms/step - loss: 0.0715 - lr: 0.0010\n",
      "Epoch 13/100\n",
      "411/411 [==============================] - 23s 57ms/step - loss: 0.0671 - lr: 0.0010\n",
      "Epoch 14/100\n",
      "411/411 [==============================] - 23s 56ms/step - loss: 0.0703 - lr: 0.0010\n",
      "Epoch 15/100\n",
      "411/411 [==============================] - 23s 57ms/step - loss: 0.0626 - lr: 0.0010\n",
      "Epoch 16/100\n",
      "411/411 [==============================] - 23s 56ms/step - loss: 0.0600 - lr: 0.0010\n",
      "Epoch 17/100\n",
      "411/411 [==============================] - 23s 56ms/step - loss: 0.0585 - lr: 0.0010\n",
      "Epoch 18/100\n",
      "411/411 [==============================] - 23s 56ms/step - loss: 0.0580 - lr: 0.0010\n",
      "Epoch 19/100\n",
      "411/411 [==============================] - 23s 56ms/step - loss: 0.0568 - lr: 0.0010\n",
      "Epoch 20/100\n",
      "411/411 [==============================] - 23s 57ms/step - loss: 0.0562 - lr: 0.0010\n",
      "Epoch 21/100\n",
      "411/411 [==============================] - 23s 56ms/step - loss: 0.0552 - lr: 0.0010\n",
      "Epoch 22/100\n",
      "411/411 [==============================] - 23s 57ms/step - loss: 0.0563 - lr: 0.0010\n",
      "Epoch 23/100\n",
      "411/411 [==============================] - 23s 56ms/step - loss: 0.0543 - lr: 0.0010\n",
      "Epoch 24/100\n",
      "411/411 [==============================] - 23s 57ms/step - loss: 0.0543 - lr: 0.0010\n",
      "Epoch 25/100\n",
      "411/411 [==============================] - 23s 56ms/step - loss: 0.0547 - lr: 0.0010\n",
      "Epoch 26/100\n",
      "411/411 [==============================] - 24s 57ms/step - loss: 0.0541 - lr: 0.0010\n",
      "Epoch 27/100\n",
      "411/411 [==============================] - 24s 57ms/step - loss: 0.0538 - lr: 0.0010\n",
      "Epoch 28/100\n",
      "411/411 [==============================] - 23s 56ms/step - loss: 0.0521 - lr: 0.0010\n",
      "Epoch 29/100\n",
      "411/411 [==============================] - 23s 57ms/step - loss: 0.0529 - lr: 0.0010\n",
      "Epoch 30/100\n",
      "411/411 [==============================] - 23s 57ms/step - loss: 0.0519 - lr: 0.0010\n",
      "Epoch 31/100\n",
      "411/411 [==============================] - 24s 57ms/step - loss: 0.0527 - lr: 0.0010\n",
      "Epoch 32/100\n",
      "411/411 [==============================] - 23s 57ms/step - loss: 0.0518 - lr: 0.0010\n",
      "Epoch 33/100\n",
      "411/411 [==============================] - 23s 57ms/step - loss: 0.0538 - lr: 0.0010\n",
      "Epoch 34/100\n",
      "411/411 [==============================] - 24s 58ms/step - loss: 0.0534 - lr: 0.0010\n",
      "Epoch 35/100\n",
      "411/411 [==============================] - 24s 58ms/step - loss: 0.0518 - lr: 0.0010\n",
      "Epoch 36/100\n",
      "411/411 [==============================] - 23s 57ms/step - loss: 0.0450 - lr: 1.0000e-04\n",
      "Epoch 37/100\n",
      "411/411 [==============================] - 23s 57ms/step - loss: 0.0437 - lr: 1.0000e-04\n",
      "Epoch 38/100\n",
      "411/411 [==============================] - 24s 57ms/step - loss: 0.0429 - lr: 1.0000e-04\n",
      "Epoch 39/100\n",
      "411/411 [==============================] - 23s 57ms/step - loss: 0.0433 - lr: 1.0000e-04\n",
      "Epoch 40/100\n",
      "411/411 [==============================] - 23s 57ms/step - loss: 0.0433 - lr: 1.0000e-04\n",
      "Epoch 41/100\n",
      "411/411 [==============================] - 24s 58ms/step - loss: 0.0423 - lr: 1.0000e-04\n",
      "Epoch 42/100\n",
      "411/411 [==============================] - 24s 58ms/step - loss: 0.0432 - lr: 1.0000e-04\n",
      "Epoch 43/100\n",
      "411/411 [==============================] - 24s 58ms/step - loss: 0.0426 - lr: 1.0000e-04\n",
      "Epoch 44/100\n",
      "411/411 [==============================] - 23s 57ms/step - loss: 0.0432 - lr: 1.0000e-04\n",
      "Epoch 45/100\n",
      "411/411 [==============================] - 23s 57ms/step - loss: 0.0423 - lr: 1.0000e-05\n",
      "Epoch 46/100\n",
      "411/411 [==============================] - 24s 58ms/step - loss: 0.0418 - lr: 1.0000e-05\n",
      "Epoch 47/100\n",
      "411/411 [==============================] - 24s 58ms/step - loss: 0.0421 - lr: 1.0000e-05\n",
      "Epoch 48/100\n",
      "411/411 [==============================] - 23s 57ms/step - loss: 0.0416 - lr: 1.0000e-05\n",
      "Epoch 49/100\n",
      "411/411 [==============================] - 23s 57ms/step - loss: 0.0418 - lr: 1.0000e-05\n",
      "Epoch 50/100\n",
      "411/411 [==============================] - 24s 58ms/step - loss: 0.0419 - lr: 1.0000e-05\n",
      "Epoch 51/100\n",
      "411/411 [==============================] - 24s 58ms/step - loss: 0.0416 - lr: 1.0000e-05\n",
      "Epoch 52/100\n",
      "411/411 [==============================] - 24s 58ms/step - loss: 0.0417 - lr: 1.0000e-06\n",
      "Epoch 53/100\n",
      "411/411 [==============================] - 23s 57ms/step - loss: 0.0420 - lr: 1.0000e-06\n"
     ]
    }
   ],
   "source": [
    "\n",
    "model = define_model(input_shape=(train_data_scaled.shape[1], 1))\n",
    "train_x, train_y = prepare_data(train_data_scaled)\n",
    "history = train_model(model, train_x, train_y,)\n"
   ],
   "metadata": {
    "collapsed": false,
    "pycharm": {
     "name": "#%%\n"
    }
   }
  },
  {
   "cell_type": "code",
   "execution_count": 137,
   "outputs": [
    {
     "name": "stdout",
     "output_type": "stream",
     "text": [
      "12/12 [==============================] - 1s 25ms/step\n",
      "               SECCI  Temperatur  Salinität       NO2       NO3\n",
      "2004-01-01  3.997754    5.409855  33.621183  2.667655  8.923724\n",
      "2004-01-02  4.070246    5.267356  33.600139  2.608179  9.779877\n",
      "2004-01-03  3.885724    5.350728  33.664896  2.626743  9.080065\n",
      "2004-01-04  3.122553    5.051978  33.629416  2.583077  8.373113\n",
      "2004-01-05  2.356215    4.771153  33.583041  2.533759  7.753776\n",
      "...              ...         ...        ...       ...       ...\n",
      "2004-12-26  1.157644    7.132883  31.358718  1.939653  8.768462\n",
      "2004-12-27  1.197616    7.157233  31.355360  2.013647  9.220631\n",
      "2004-12-28  1.237718    7.182679  31.352015  2.087616  9.682324\n",
      "2004-12-29  1.507032    7.044976  31.409471  2.271915  7.574832\n",
      "2004-12-30  1.503280    7.069032  31.404087  2.278677  7.600285\n",
      "\n",
      "[365 rows x 5 columns]\n"
     ]
    },
    {
     "data": {
      "text/plain": "<Figure size 864x432 with 1 Axes>",
      "image/png": "[encoded data removed]"
     },
     "metadata": {
      "needs_background": "light"
     },
     "output_type": "display_data"
    },
    {
     "data": {
      "text/plain": "SECCI          4.076031\nTemperatur    10.829082\nSalinität     32.347971\nNO2            0.655522\nNO3           10.067303\ndtype: float64"
     },
     "execution_count": 137,
     "metadata": {},
     "output_type": "execute_result"
    }
   ],
   "source": [
    "\n",
    "# Vorhersage für die nächsten 365 Tage\n",
    "future_dates = pd.date_range(start=train_data.index[-1] + pd.DateOffset(days=1), periods=365, freq=\"D\")\n",
    "future_data = pd.DataFrame(index=future_dates, columns=train_data_with_fourier.columns)\n",
    "future_data.iloc[:, :5] = train_data.iloc[-365:, :5]  # Verwenden Sie die letzten 365 Tage der ursprünglichen Trainingsdaten (unskaliert)\n",
    "future_data_with_fourier = add_fourier_terms(future_data, 365, 8)  # Passen Sie die Anzahl der Fourier-Terme entsprechend an (4 oder 8)\n",
    "future_data_scaled = scaler.transform(future_data_with_fourier)\n",
    "future_x = future_data_scaled[:, :train_data_scaled.shape[1]]\n",
    "future_x = np.reshape(future_x, (future_x.shape[0], future_x.shape[1], 1))\n",
    "future_y_pred = predict(model, future_x, scaler, future_data_scaled)\n",
    "predicted_df = pd.DataFrame(future_y_pred, columns=[\"SECCI\", \"Temperatur\", \"Salinität\", \"NO2\", \"NO3\"], index=future_dates)\n",
    "predicted_df[\"NO3\"][predicted_df[\"NO3\"] < 0] = 0\n",
    "print(predicted_df)\n",
    "plot_predicted_actual(predicted_df, future_y_pred)\n",
    "predicted_df.mean()\n"
   ],
   "metadata": {
    "collapsed": false,
    "pycharm": {
     "name": "#%%\n"
    }
   }
  },
  {
   "cell_type": "code",
   "execution_count": 138,
   "outputs": [],
   "source": [
    "predicted_df.to_csv(\"predicted_data2004_2.csv\", index=True)\n"
   ],
   "metadata": {
    "collapsed": false,
    "pycharm": {
     "name": "#%%\n"
    }
   }
  },
  {
   "cell_type": "code",
   "execution_count": 138,
   "outputs": [],
   "source": [],
   "metadata": {
    "collapsed": false,
    "pycharm": {
     "name": "#%%\n"
    }
   }
  }
 ],
 "metadata": {
  "kernelspec": {
   "display_name": "Python 3 (ipykernel)",
   "language": "python",
   "name": "python3"
  },
  "language_info": {
   "codemirror_mode": {
    "name": "ipython",
    "version": 3
   },
   "file_extension": ".py",
   "mimetype": "text/x-python",
   "name": "python",
   "nbconvert_exporter": "python",
   "pygments_lexer": "ipython3",
   "version": "3.9.12"
  }
 },
 "nbformat": 4,
 "nbformat_minor": 1
}